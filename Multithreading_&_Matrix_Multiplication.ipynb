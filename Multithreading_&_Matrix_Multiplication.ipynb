{
  "cells": [
    {
      "cell_type": "markdown",
      "metadata": {
        "id": "view-in-github",
        "colab_type": "text"
      },
      "source": [
        "<a href=\"https://colab.research.google.com/github/AayushiPuri/MULTI_THREADING/blob/main/Multithreading_%26_Matrix_Multiplication.ipynb\" target=\"_parent\"><img src=\"https://colab.research.google.com/assets/colab-badge.svg\" alt=\"Open In Colab\"/></a>"
      ]
    },
    {
      "cell_type": "markdown",
      "id": "e9c01146",
      "metadata": {
        "id": "e9c01146"
      },
      "source": [
        "# Performance Results: Matrix Multiplication & Multithreading"
      ]
    },
    {
      "cell_type": "markdown",
      "id": "454018db",
      "metadata": {
        "id": "454018db"
      },
      "source": [
        "### we first import the module that we will be using."
      ]
    },
    {
      "cell_type": "code",
      "execution_count": 1,
      "id": "c8da4153",
      "metadata": {
        "id": "c8da4153"
      },
      "outputs": [],
      "source": [
        "import threading\n",
        "import time\n",
        "import numpy as np"
      ]
    },
    {
      "cell_type": "markdown",
      "id": "e3a6b9e3",
      "metadata": {
        "id": "e3a6b9e3"
      },
      "source": [
        "### Let consider a 3 by 3 Matrix A and B with integer value ranging from 0 to 9"
      ]
    },
    {
      "cell_type": "code",
      "execution_count": 2,
      "id": "60361a6c",
      "metadata": {
        "scrolled": true,
        "colab": {
          "base_uri": "https://localhost:8080/"
        },
        "id": "60361a6c",
        "outputId": "70d09bdf-b4ea-4230-a654-45b6a07b9153"
      },
      "outputs": [
        {
          "output_type": "stream",
          "name": "stdout",
          "text": [
            "matrix A = \n",
            " [[9 1 5 ... 3 9 4]\n",
            " [8 2 2 ... 1 9 8]\n",
            " [5 7 2 ... 6 4 9]\n",
            " ...\n",
            " [3 4 7 ... 6 1 7]\n",
            " [8 6 5 ... 5 8 2]\n",
            " [0 8 6 ... 6 6 1]]\n",
            "matrix B = \n",
            " [[5 8 3 ... 5 4 3]\n",
            " [7 1 8 ... 3 0 2]\n",
            " [2 0 2 ... 0 0 6]\n",
            " ...\n",
            " [6 1 7 ... 0 6 5]\n",
            " [2 1 0 ... 2 1 5]\n",
            " [8 5 6 ... 1 4 0]]\n"
          ]
        }
      ],
      "source": [
        "# Create a random 1000 by 1000 Integer Matrix A and B\n",
        "A = np.random.randint(10, size=(1000,1000))\n",
        "print(\"matrix A = \\n\",A)\n",
        "B = np.random.randint(10, size=(1000,1000))\n",
        "print(\"matrix B = \\n\",B)"
      ]
    },
    {
      "cell_type": "markdown",
      "id": "ce43e684",
      "metadata": {
        "id": "ce43e684"
      },
      "source": [
        "### Our resulting Matrix C is set to be the Zero Matrix of a 3 by 3.  "
      ]
    },
    {
      "cell_type": "code",
      "execution_count": 3,
      "id": "43c72c2d",
      "metadata": {
        "colab": {
          "base_uri": "https://localhost:8080/"
        },
        "id": "43c72c2d",
        "outputId": "1a4356c4-1fd0-476d-c571-968d103b7d80"
      },
      "outputs": [
        {
          "output_type": "stream",
          "name": "stdout",
          "text": [
            "matrix C = \n",
            " [[0 0 0 ... 0 0 0]\n",
            " [0 0 0 ... 0 0 0]\n",
            " [0 0 0 ... 0 0 0]\n",
            " ...\n",
            " [0 0 0 ... 0 0 0]\n",
            " [0 0 0 ... 0 0 0]\n",
            " [0 0 0 ... 0 0 0]]\n"
          ]
        }
      ],
      "source": [
        "#Set Matrix C to be the Zero Matrix\n",
        "C = np.zeros([1000, 1000], dtype = int)\n",
        "print(\"matrix C = \\n\",C)"
      ]
    },
    {
      "cell_type": "markdown",
      "id": "17698eb7",
      "metadata": {
        "id": "17698eb7"
      },
      "source": [
        "## Single Thread Performance Results"
      ]
    },
    {
      "cell_type": "markdown",
      "id": "2e5f8485",
      "metadata": {
        "id": "2e5f8485"
      },
      "source": [
        "### In the following code we call this class Thread1. This class will compute A x B and hold its resulting output in Matrix C."
      ]
    },
    {
      "cell_type": "code",
      "execution_count": 4,
      "id": "2b6e823b",
      "metadata": {
        "id": "2b6e823b"
      },
      "outputs": [],
      "source": [
        "#create a threading class\n",
        "class Thread1(threading.Thread):\n",
        "    def __init__(self, id, name):\n",
        "        threading.Thread.__init__(self)\n",
        "        self.id = id\n",
        "        self.name = name\n",
        "\n",
        "    def run(self):\n",
        "        print(\"Starting \" + self.name + \"\\n\")\n",
        "        C[0][0] = A[0][0] * B[0][0] + A[0][1] * B[1][0] + A[0][2] * B[2][0]\n",
        "        C[0][1] = A[0][0] * B[0][1] + A[0][1] * B[1][1] + A[0][2] * B[2][1]\n",
        "        C[0][2] = A[0][0] * B[0][2] + A[0][1] * B[1][2] + A[0][2] * B[2][2]\n",
        "\n",
        "        C[1][0] = A[1][0] * B[0][0] + A[1][1] * B[1][0] + A[1][2] * B[2][0]\n",
        "        C[1][1] = A[1][0] * B[0][1] + A[1][1] * B[1][1] + A[1][2] * B[2][1]\n",
        "        C[1][2] = A[1][0] * B[0][2] + A[1][1] * B[1][2] + A[1][2] * B[2][2]\n",
        "\n",
        "        C[2][0] = A[2][0] * B[0][0] + A[2][1] * B[1][0] + A[2][2] * B[2][0]\n",
        "        C[2][1] = A[2][0] * B[0][1] + A[2][1] * B[1][1] + A[2][2] * B[2][1]\n",
        "        C[2][2] = A[2][0] * B[0][2] + A[2][1] * B[1][2] + A[2][2] * B[2][2]\n",
        "        print(\"End \" + self.name + \"\\n\")\n"
      ]
    },
    {
      "cell_type": "markdown",
      "id": "78fe6896",
      "metadata": {
        "id": "78fe6896"
      },
      "source": [
        "We will than start a timer. Where time.time() is counted in secound but since the resulting time will be small. We will mutiply the resulting time by 1000."
      ]
    },
    {
      "cell_type": "code",
      "execution_count": 5,
      "id": "d3d5f878",
      "metadata": {
        "colab": {
          "base_uri": "https://localhost:8080/"
        },
        "id": "d3d5f878",
        "outputId": "cc6f0794-c7f1-4970-c2b5-c1962667752c"
      },
      "outputs": [
        {
          "output_type": "stream",
          "name": "stdout",
          "text": [
            "Using a single thread \n",
            "\n",
            "Starting Thread 1\n",
            "\n",
            "End Thread 1\n",
            "\n",
            "Execution Time:  2.81982421875\n",
            "[[62 73 45 ...  0  0  0]\n",
            " [58 66 44 ...  0  0  0]\n",
            " [78 47 75 ...  0  0  0]\n",
            " ...\n",
            " [ 0  0  0 ...  0  0  0]\n",
            " [ 0  0  0 ...  0  0  0]\n",
            " [ 0  0  0 ...  0  0  0]]\n"
          ]
        }
      ],
      "source": [
        "print(\"Using a single thread \\n\")\n",
        "start = (time.time() * 1000)\n",
        "thread1= Thread1(1, \"Thread 1\")\n",
        "thread1.start()\n",
        "thread1.join()\n",
        "print(\"Execution Time: \", (time.time() * 1000) - start)\n",
        "print(C)"
      ]
    },
    {
      "cell_type": "markdown",
      "id": "f556c081",
      "metadata": {
        "id": "f556c081"
      },
      "source": [
        "## 2 - Threads Performance Results"
      ]
    },
    {
      "cell_type": "markdown",
      "id": "aa735eee",
      "metadata": {
        "id": "aa735eee"
      },
      "source": [
        "### Here we reset the C matrix to be the zero matrix"
      ]
    },
    {
      "cell_type": "code",
      "execution_count": 6,
      "id": "ddb1f4cd",
      "metadata": {
        "colab": {
          "base_uri": "https://localhost:8080/"
        },
        "id": "ddb1f4cd",
        "outputId": "da343f68-32db-4a14-899a-23f58848b7df"
      },
      "outputs": [
        {
          "output_type": "stream",
          "name": "stdout",
          "text": [
            "[[0 0 0 ... 0 0 0]\n",
            " [0 0 0 ... 0 0 0]\n",
            " [0 0 0 ... 0 0 0]\n",
            " ...\n",
            " [0 0 0 ... 0 0 0]\n",
            " [0 0 0 ... 0 0 0]\n",
            " [0 0 0 ... 0 0 0]]\n"
          ]
        }
      ],
      "source": [
        "# reset C back to the zero matrix\n",
        "C = np.zeros([1000,1000], dtype = int)\n",
        "print(C)"
      ]
    },
    {
      "cell_type": "markdown",
      "id": "8b5d3ae1",
      "metadata": {
        "id": "8b5d3ae1"
      },
      "source": [
        "##### The following code. We created two total threads class.\n",
        "Thread2 have a total of 4 computation\n",
        "Thread3 have a total of 5 computation\n",
        "This is because 9 is that divied into a whole number.\n",
        "Here we will test the result of using two threads."
      ]
    },
    {
      "cell_type": "code",
      "execution_count": 7,
      "id": "a73dd289",
      "metadata": {
        "id": "a73dd289"
      },
      "outputs": [],
      "source": [
        "class Thread2(threading.Thread):\n",
        "    def __init__(self, id, name):\n",
        "        threading.Thread.__init__(self)\n",
        "        self.id = id\n",
        "        self.name = name\n",
        "\n",
        "    def run(self):\n",
        "        # this thread will be assign do 4 computation\n",
        "        print(\"Starting \" + self.name + \"\\n\")\n",
        "        C[0][0] = A[0][0] * B[0][0] + A[0][1] * B[1][0] + A[0][2] * B[2][0]\n",
        "        C[0][1] = A[0][0] * B[0][1] + A[0][1] * B[1][1] + A[0][2] * B[2][1]\n",
        "        C[0][2] = A[0][0] * B[0][2] + A[0][1] * B[1][2] + A[0][2] * B[2][2]\n",
        "        C[1][0] = A[1][0] * B[0][0] + A[1][1] * B[1][0] + A[1][2] * B[2][0]\n",
        "\n",
        "        print(\"End \" + self.name + \"\\n\")\n"
      ]
    },
    {
      "cell_type": "code",
      "execution_count": 8,
      "id": "b56541b1",
      "metadata": {
        "id": "b56541b1"
      },
      "outputs": [],
      "source": [
        "class Thread3(threading.Thread):\n",
        "    def __init__(self, id, name):\n",
        "        threading.Thread.__init__(self)\n",
        "        self.id = id\n",
        "        self.name = name\n",
        "    # this thread will have to do a additon computation since 9 / 2 have a reminder of 1\n",
        "    # therefore 4 + 1\n",
        "    def run(self):\n",
        "        print(\"Starting \" + self.name + \"\\n\")\n",
        "        C[1][1] = A[1][0] * B[0][1] + A[1][1] * B[1][1] + A[1][2] * B[2][1]\n",
        "        C[1][2] = A[1][0] * B[0][2] + A[1][1] * B[1][2] + A[1][2] * B[2][2]\n",
        "        C[2][0] = A[2][0] * B[0][0] + A[2][1] * B[1][0] + A[2][2] * B[2][0]\n",
        "        C[2][1] = A[2][0] * B[0][1] + A[2][1] * B[1][1] + A[2][2] * B[2][1]\n",
        "        C[2][2] = A[2][0] * B[0][2] + A[2][1] * B[1][2] + A[2][2] * B[2][2]\n",
        "        print(\"End \" + self.name + \"\\n\")\n"
      ]
    },
    {
      "cell_type": "markdown",
      "id": "85d89cf0",
      "metadata": {
        "id": "85d89cf0"
      },
      "source": [
        "### In the following it show a result that is much slower then running a single thread."
      ]
    },
    {
      "cell_type": "code",
      "execution_count": 9,
      "id": "09aae1e1",
      "metadata": {
        "colab": {
          "base_uri": "https://localhost:8080/"
        },
        "id": "09aae1e1",
        "outputId": "b2975de4-8b16-438d-a477-1a966fee300b"
      },
      "outputs": [
        {
          "output_type": "stream",
          "name": "stdout",
          "text": [
            "Using 2 threads \n",
            "\n",
            "Starting Thread 2\n",
            "\n",
            "End Thread 2\n",
            "\n",
            "Starting Thread 3\n",
            "\n",
            "End Thread 3\n",
            "\n",
            "Execution Time:  7.96484375\n",
            "[[62 73 45 ...  0  0  0]\n",
            " [58 66 44 ...  0  0  0]\n",
            " [78 47 75 ...  0  0  0]\n",
            " ...\n",
            " [ 0  0  0 ...  0  0  0]\n",
            " [ 0  0  0 ...  0  0  0]\n",
            " [ 0  0  0 ...  0  0  0]]\n"
          ]
        }
      ],
      "source": [
        "print(\"Using 2 threads \\n\")\n",
        "start = (time.time() * 1000)\n",
        "thread2 = Thread2(2, \"Thread 2\")\n",
        "thread3 = Thread3(3, \"Thread 3\")\n",
        "thread2.start()\n",
        "thread3.start()\n",
        "thread2.join()\n",
        "thread3.join()\n",
        "print(\"Execution Time: \", (time.time() * 1000) - start)\n",
        "print(C)"
      ]
    },
    {
      "cell_type": "markdown",
      "id": "adf7c35a",
      "metadata": {
        "id": "adf7c35a"
      },
      "source": [
        "## Three Threads Performance Results"
      ]
    },
    {
      "cell_type": "markdown",
      "id": "531d0b73",
      "metadata": {
        "id": "531d0b73"
      },
      "source": [
        "### Here we reset the C matrix to be the zero matrix."
      ]
    },
    {
      "cell_type": "code",
      "execution_count": 10,
      "id": "36561d6e",
      "metadata": {
        "colab": {
          "base_uri": "https://localhost:8080/"
        },
        "id": "36561d6e",
        "outputId": "4567aa90-2690-4a66-ef9c-73c361c6474a"
      },
      "outputs": [
        {
          "output_type": "stream",
          "name": "stdout",
          "text": [
            "[[0 0 0 ... 0 0 0]\n",
            " [0 0 0 ... 0 0 0]\n",
            " [0 0 0 ... 0 0 0]\n",
            " ...\n",
            " [0 0 0 ... 0 0 0]\n",
            " [0 0 0 ... 0 0 0]\n",
            " [0 0 0 ... 0 0 0]]\n"
          ]
        }
      ],
      "source": [
        "# reset C back to the zero matrix\n",
        "C = np.zeros([1000, 1000], dtype = int)\n",
        "print(C)"
      ]
    },
    {
      "cell_type": "markdown",
      "id": "f028d10a",
      "metadata": {
        "id": "f028d10a"
      },
      "source": [
        "The following code. We created three total thread class.\n",
        "Thread4, Thread5, and Thread6 have a total of 3 computation to complete each."
      ]
    },
    {
      "cell_type": "code",
      "execution_count": 11,
      "id": "bd4cbd23",
      "metadata": {
        "id": "bd4cbd23"
      },
      "outputs": [],
      "source": [
        "class Thread4(threading.Thread):\n",
        "    def __init__(self, id, name):\n",
        "        threading.Thread.__init__(self)\n",
        "        self.id = id\n",
        "        self.name = name\n",
        "\n",
        "    def run(self):\n",
        "        # this thread will be assign do 3 computation\n",
        "        print(\"Starting \" + self.name + \"\\n\")\n",
        "        C[0][0] = A[0][0] * B[0][0] + A[0][1] * B[1][0] + A[0][2] * B[2][0]\n",
        "        C[0][1] = A[0][0] * B[0][1] + A[0][1] * B[1][1] + A[0][2] * B[2][1]\n",
        "        C[0][2] = A[0][0] * B[0][2] + A[0][1] * B[1][2] + A[0][2] * B[2][2]\n",
        "\n",
        "        print(\"End \" + self.name + \"\\n\")"
      ]
    },
    {
      "cell_type": "code",
      "execution_count": 12,
      "id": "dc4712b6",
      "metadata": {
        "id": "dc4712b6"
      },
      "outputs": [],
      "source": [
        "class Thread5(threading.Thread):\n",
        "    def __init__(self, id, name):\n",
        "        threading.Thread.__init__(self)\n",
        "        self.id = id\n",
        "        self.name = name\n",
        "\n",
        "    def run(self):\n",
        "        # this thread will be assign do 3 computation\n",
        "        print(\"Starting \" + self.name + \"\\n\")\n",
        "        C[1][0] = A[1][0] * B[0][0] + A[1][1] * B[1][0] + A[1][2] * B[2][0]\n",
        "        C[1][1] = A[1][0] * B[0][1] + A[1][1] * B[1][1] + A[1][2] * B[2][1]\n",
        "        C[1][2] = A[1][0] * B[0][2] + A[1][1] * B[1][2] + A[1][2] * B[2][2]\n",
        "\n",
        "\n",
        "        print(\"End \" + self.name + \"\\n\")"
      ]
    },
    {
      "cell_type": "code",
      "execution_count": 13,
      "id": "1479adc9",
      "metadata": {
        "id": "1479adc9"
      },
      "outputs": [],
      "source": [
        "class Thread6(threading.Thread):\n",
        "    def __init__(self, id, name):\n",
        "        threading.Thread.__init__(self)\n",
        "        self.id = id\n",
        "        self.name = name\n",
        "\n",
        "    def run(self):\n",
        "        # this thread will be assign do 3 computation\n",
        "        print(\"Starting \" + self.name + \"\\n\")\n",
        "        C[2][0] = A[2][0] * B[0][0] + A[2][1] * B[1][0] + A[2][2] * B[2][0]\n",
        "        C[2][1] = A[2][0] * B[0][1] + A[2][1] * B[1][1] + A[2][2] * B[2][1]\n",
        "        C[2][2] = A[2][0] * B[0][2] + A[2][1] * B[1][2] + A[2][2] * B[2][2]\n",
        "        print(\"End \" + self.name + \"\\n\")"
      ]
    },
    {
      "cell_type": "markdown",
      "id": "2502562f",
      "metadata": {
        "id": "2502562f"
      },
      "source": [
        "### Like with the previous excution time. The following result is much slower then running a single thread."
      ]
    },
    {
      "cell_type": "code",
      "execution_count": 15,
      "id": "f82a1411",
      "metadata": {
        "scrolled": false,
        "colab": {
          "base_uri": "https://localhost:8080/"
        },
        "id": "f82a1411",
        "outputId": "d094a456-d407-4539-c05c-e3d26fe78bb6"
      },
      "outputs": [
        {
          "output_type": "stream",
          "name": "stdout",
          "text": [
            "Using 1000 threads \n",
            "\n",
            "Starting Thread 4\n",
            "\n",
            "End Thread 4\n",
            "\n",
            "Starting Thread 5\n",
            "\n",
            "End Thread 5\n",
            "\n",
            "Starting Thread 6\n",
            "\n",
            "End Thread 6\n",
            "\n",
            "Execution Time:  7.208740234375\n",
            "[[62 73 45 ...  0  0  0]\n",
            " [58 66 44 ...  0  0  0]\n",
            " [78 47 75 ...  0  0  0]\n",
            " ...\n",
            " [ 0  0  0 ...  0  0  0]\n",
            " [ 0  0  0 ...  0  0  0]\n",
            " [ 0  0  0 ...  0  0  0]]\n"
          ]
        }
      ],
      "source": [
        "print(\"Using 1000 threads \\n\")\n",
        "start = (time.time() * 1000)\n",
        "thread4= Thread4(4, \"Thread 4\")\n",
        "thread5= Thread5(5, \"Thread 5\")\n",
        "thread6= Thread6(6, \"Thread 6\")\n",
        "\n",
        "thread4.start()\n",
        "thread5.start()\n",
        "thread6.start()\n",
        "thread4.join()\n",
        "thread5.join()\n",
        "thread6.join()\n",
        "print(\"Execution Time: \", (time.time() * 1000) - start)\n",
        "print(C)"
      ]
    },
    {
      "cell_type": "markdown",
      "id": "44ed3834",
      "metadata": {
        "id": "44ed3834"
      },
      "source": [
        "## Performance Results Conclusion"
      ]
    },
    {
      "cell_type": "markdown",
      "id": "1b68c737",
      "metadata": {
        "id": "1b68c737"
      },
      "source": [
        "The resulting time when using multiple threads seem to be slower than running on a single thread. After further investigation, Python threading module only let one execution to run at a time. What it's happening here is that each execution is occurring, and threads are switching to one another. This makes the resulting execution time of multiple threads much slower than single thread.                                                                                                                          [Reference(Rossum & Drake Jr)]"
      ]
    },
    {
      "cell_type": "code",
      "execution_count": null,
      "id": "5f9b23e3",
      "metadata": {
        "id": "5f9b23e3"
      },
      "outputs": [],
      "source": []
    }
  ],
  "metadata": {
    "kernelspec": {
      "display_name": "Python 3 (ipykernel)",
      "language": "python",
      "name": "python3"
    },
    "language_info": {
      "codemirror_mode": {
        "name": "ipython",
        "version": 3
      },
      "file_extension": ".py",
      "mimetype": "text/x-python",
      "name": "python",
      "nbconvert_exporter": "python",
      "pygments_lexer": "ipython3",
      "version": "3.9.13"
    },
    "colab": {
      "provenance": [],
      "include_colab_link": true
    }
  },
  "nbformat": 4,
  "nbformat_minor": 5
}